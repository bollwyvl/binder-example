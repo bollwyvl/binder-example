{
 "cells": [
  {
   "cell_type": "code",
   "execution_count": 2,
   "metadata": {
    "code_folding": [
     1
    ],
    "collapsed": false
   },
   "outputs": [
    {
     "data": {
      "text/html": [
       "    \n",
       "        <link rel=\"stylesheet\" href=\"http://cdn.pydata.org/bokeh/release/bokeh-0.9.1.min.css\" type=\"text/css\" />\n",
       "        <script type=\"text/javascript\" src=\"http://cdn.pydata.org/bokeh/release/bokeh-0.9.1.min.js\"></script>\n",
       "        <script type=\"text/javascript\">\n",
       "            Bokeh.set_log_level(\"info\");\n",
       "        </script>\n",
       "    <div>\n",
       "        <a href=\"http://bokeh.pydata.org\" target=\"_blank\" class=\"bk-logo bk-logo-small bk-logo-notebook\"></a>\n",
       "        <span>BokehJS successfully loaded.</span>\n",
       "    </div>"
      ]
     },
     "metadata": {},
     "output_type": "display_data"
    }
   ],
   "source": [
    "from bokeh.plotting import output_notebook, show, figure\n",
    "from bokeh.models import ColumnDataSource\n",
    "from bokeh.resources import CDN\n",
    "import bokeh.sampledata.unemployment1948 as data\n",
    "df = data.data\n",
    "source = ColumnDataSource(df)\n",
    "output_notebook( resources=CDN )"
   ]
  },
  {
   "cell_type": "code",
   "execution_count": 2,
   "metadata": {
    "collapsed": false
   },
   "outputs": [],
   "source": [
    "from coffeetools import coffee\n",
    "from IPython.display import Javascript\n",
    "from IPython.display import HTML"
   ]
  },
  {
   "cell_type": "markdown",
   "metadata": {},
   "source": [
    "> Create a table from a pandas DataFrame\n",
    "\n",
    "* __rows__ - x-axis \n",
    "* __columns__ - y-axis"
   ]
  },
  {
   "cell_type": "code",
   "execution_count": 3,
   "metadata": {
    "collapsed": false
   },
   "outputs": [],
   "source": [
    "table = \"\"\"\n",
    "<tr>\n",
    "<td>\n",
    "<code class=\"figure\" contenteditable=\"true\">figure:\n",
    "  plot_width: 400\n",
    "  plot_height: 400\n",
    "</code>\n",
    "</td>\n",
    "\"\"\"\n",
    "child_row = ''\n",
    "child_row += \"<tr class='x-axis' data-row='{key}'><th>{key}</th>\"\n",
    "\n",
    "for key in df.keys():\n",
    "    table += \"<th class='y-axis'>{key}</th>\".format(key=key)\n",
    "    child_row += \"<td data-column='{key}'></td>\".format(key=key)\n",
    "table += \"</tr>\" \n",
    "child_row += \"</tr>\" \n",
    "for key in df.keys():\n",
    "    table += child_row.format( key= key)\n",
    "    pass"
   ]
  },
  {
   "cell_type": "markdown",
   "metadata": {},
   "source": [
    "> Make selected content editable"
   ]
  },
  {
   "cell_type": "code",
   "execution_count": 4,
   "metadata": {
    "collapsed": true
   },
   "outputs": [],
   "source": [
    "create_interactive_table = coffee.compile(\"\"\"require [\n",
    "    \"https://cdnjs.cloudflare.com/ajax/libs/d3/3.5.6/d3.min.js\"\n",
    "], (d3) ->\n",
    "    table = d3.select \"div#display table\"\n",
    "    table.selectAll 'td'\n",
    "        .style 'border-color', 'green'\n",
    "    rows = table.selectAll 'tr'\n",
    "    rows.each (d,i) ->\n",
    "            row = d3.select @\n",
    "            if i > 0\n",
    "                row.select 'th'\n",
    "                    .on 'click', ()->\n",
    "                        rows.classed 'selected', false\n",
    "                            .attr 'contenteditable','false'\n",
    "                        row.classed 'selected', not row.classed 'selected'\n",
    "                        row.selectAll 'td'\n",
    "                            .append 'code'\n",
    "                            .attr 'contenteditable','true'\n",
    "\"\"\",bare=True)"
   ]
  },
  {
   "cell_type": "markdown",
   "metadata": {},
   "source": [
    "> Capture the glyph information as YAML in the cells"
   ]
  },
  {
   "cell_type": "code",
   "execution_count": 5,
   "metadata": {
    "collapsed": true
   },
   "outputs": [],
   "source": [
    "get_figure_data = coffee.compile(\"\"\"\n",
    "require [\n",
    "    \"https://cdnjs.cloudflare.com/ajax/libs/d3/3.5.6/d3.min.js\",\n",
    "    \"https://cdnjs.cloudflare.com/ajax/libs/js-yaml/3.3.1/js-yaml.min.js\"\n",
    "], (d3,yaml) ->\n",
    "    figure = yaml.load d3.select('.figure').text()\n",
    "    figure['glyphs'] = []\n",
    "    x_row = d3.selectAll '.selected'\n",
    "    x_column = x_row.attr('data-row')\n",
    "    x_row.selectAll 'td'\n",
    "        .each (d,i)->\n",
    "            cell = d3.select @\n",
    "            if cell.text().trim().length > 0\n",
    "                d3.entries yaml.load cell.text()\n",
    "                    .forEach (d) ->\n",
    "                        tmp = {}\n",
    "                        tmp[d.key] = \n",
    "                            x: x_column\n",
    "                            y: cell.attr 'data-column'\n",
    "                        d3.entries d.value\n",
    "                            .forEach (_d)->\n",
    "                                tmp[d.key][_d.key] = _d.value\n",
    "                        \n",
    "                        figure['glyphs'].push tmp\n",
    "                    \n",
    "    IPython.notebook.kernel.execute 'figure_data = ' + JSON.stringify figure\n",
    "\"\"\", bare = True )"
   ]
  },
  {
   "cell_type": "markdown",
   "metadata": {},
   "source": [
    "> Create the interaction table"
   ]
  },
  {
   "cell_type": "code",
   "execution_count": 6,
   "metadata": {
    "collapsed": false
   },
   "outputs": [
    {
     "data": {
      "text/html": [
       "\n",
       "<style>\n",
       "div#display tr.selected {\n",
       "    border-top-width: 3px;\n",
       "    border-left-width: 3px;\n",
       "    border-right-width: 3px;\n",
       "    border-bottom-width: 3px;\n",
       "}\n",
       "</style>\n",
       "<div id='display'>\n",
       "    <table>\n",
       "        \n",
       "<tr>\n",
       "<td>\n",
       "<code class=\"figure\" contenteditable=\"true\">figure:\n",
       "  plot_width: 400\n",
       "  plot_height: 400\n",
       "</code>\n",
       "</td>\n",
       "<th class='y-axis'>Year</th><th class='y-axis'>Jan</th><th class='y-axis'>Feb</th><th class='y-axis'>Mar</th><th class='y-axis'>Apr</th><th class='y-axis'>May</th><th class='y-axis'>Jun</th><th class='y-axis'>Jul</th><th class='y-axis'>Aug</th><th class='y-axis'>Sep</th><th class='y-axis'>Oct</th><th class='y-axis'>Nov</th><th class='y-axis'>Dec</th><th class='y-axis'>Annual</th></tr><tr class='x-axis' data-row='Year'><th>Year</th><td data-column='Year'></td><td data-column='Jan'></td><td data-column='Feb'></td><td data-column='Mar'></td><td data-column='Apr'></td><td data-column='May'></td><td data-column='Jun'></td><td data-column='Jul'></td><td data-column='Aug'></td><td data-column='Sep'></td><td data-column='Oct'></td><td data-column='Nov'></td><td data-column='Dec'></td><td data-column='Annual'></td></tr><tr class='x-axis' data-row='Jan'><th>Jan</th><td data-column='Year'></td><td data-column='Jan'></td><td data-column='Feb'></td><td data-column='Mar'></td><td data-column='Apr'></td><td data-column='May'></td><td data-column='Jun'></td><td data-column='Jul'></td><td data-column='Aug'></td><td data-column='Sep'></td><td data-column='Oct'></td><td data-column='Nov'></td><td data-column='Dec'></td><td data-column='Annual'></td></tr><tr class='x-axis' data-row='Feb'><th>Feb</th><td data-column='Year'></td><td data-column='Jan'></td><td data-column='Feb'></td><td data-column='Mar'></td><td data-column='Apr'></td><td data-column='May'></td><td data-column='Jun'></td><td data-column='Jul'></td><td data-column='Aug'></td><td data-column='Sep'></td><td data-column='Oct'></td><td data-column='Nov'></td><td data-column='Dec'></td><td data-column='Annual'></td></tr><tr class='x-axis' data-row='Mar'><th>Mar</th><td data-column='Year'></td><td data-column='Jan'></td><td data-column='Feb'></td><td data-column='Mar'></td><td data-column='Apr'></td><td data-column='May'></td><td data-column='Jun'></td><td data-column='Jul'></td><td data-column='Aug'></td><td data-column='Sep'></td><td data-column='Oct'></td><td data-column='Nov'></td><td data-column='Dec'></td><td data-column='Annual'></td></tr><tr class='x-axis' data-row='Apr'><th>Apr</th><td data-column='Year'></td><td data-column='Jan'></td><td data-column='Feb'></td><td data-column='Mar'></td><td data-column='Apr'></td><td data-column='May'></td><td data-column='Jun'></td><td data-column='Jul'></td><td data-column='Aug'></td><td data-column='Sep'></td><td data-column='Oct'></td><td data-column='Nov'></td><td data-column='Dec'></td><td data-column='Annual'></td></tr><tr class='x-axis' data-row='May'><th>May</th><td data-column='Year'></td><td data-column='Jan'></td><td data-column='Feb'></td><td data-column='Mar'></td><td data-column='Apr'></td><td data-column='May'></td><td data-column='Jun'></td><td data-column='Jul'></td><td data-column='Aug'></td><td data-column='Sep'></td><td data-column='Oct'></td><td data-column='Nov'></td><td data-column='Dec'></td><td data-column='Annual'></td></tr><tr class='x-axis' data-row='Jun'><th>Jun</th><td data-column='Year'></td><td data-column='Jan'></td><td data-column='Feb'></td><td data-column='Mar'></td><td data-column='Apr'></td><td data-column='May'></td><td data-column='Jun'></td><td data-column='Jul'></td><td data-column='Aug'></td><td data-column='Sep'></td><td data-column='Oct'></td><td data-column='Nov'></td><td data-column='Dec'></td><td data-column='Annual'></td></tr><tr class='x-axis' data-row='Jul'><th>Jul</th><td data-column='Year'></td><td data-column='Jan'></td><td data-column='Feb'></td><td data-column='Mar'></td><td data-column='Apr'></td><td data-column='May'></td><td data-column='Jun'></td><td data-column='Jul'></td><td data-column='Aug'></td><td data-column='Sep'></td><td data-column='Oct'></td><td data-column='Nov'></td><td data-column='Dec'></td><td data-column='Annual'></td></tr><tr class='x-axis' data-row='Aug'><th>Aug</th><td data-column='Year'></td><td data-column='Jan'></td><td data-column='Feb'></td><td data-column='Mar'></td><td data-column='Apr'></td><td data-column='May'></td><td data-column='Jun'></td><td data-column='Jul'></td><td data-column='Aug'></td><td data-column='Sep'></td><td data-column='Oct'></td><td data-column='Nov'></td><td data-column='Dec'></td><td data-column='Annual'></td></tr><tr class='x-axis' data-row='Sep'><th>Sep</th><td data-column='Year'></td><td data-column='Jan'></td><td data-column='Feb'></td><td data-column='Mar'></td><td data-column='Apr'></td><td data-column='May'></td><td data-column='Jun'></td><td data-column='Jul'></td><td data-column='Aug'></td><td data-column='Sep'></td><td data-column='Oct'></td><td data-column='Nov'></td><td data-column='Dec'></td><td data-column='Annual'></td></tr><tr class='x-axis' data-row='Oct'><th>Oct</th><td data-column='Year'></td><td data-column='Jan'></td><td data-column='Feb'></td><td data-column='Mar'></td><td data-column='Apr'></td><td data-column='May'></td><td data-column='Jun'></td><td data-column='Jul'></td><td data-column='Aug'></td><td data-column='Sep'></td><td data-column='Oct'></td><td data-column='Nov'></td><td data-column='Dec'></td><td data-column='Annual'></td></tr><tr class='x-axis' data-row='Nov'><th>Nov</th><td data-column='Year'></td><td data-column='Jan'></td><td data-column='Feb'></td><td data-column='Mar'></td><td data-column='Apr'></td><td data-column='May'></td><td data-column='Jun'></td><td data-column='Jul'></td><td data-column='Aug'></td><td data-column='Sep'></td><td data-column='Oct'></td><td data-column='Nov'></td><td data-column='Dec'></td><td data-column='Annual'></td></tr><tr class='x-axis' data-row='Dec'><th>Dec</th><td data-column='Year'></td><td data-column='Jan'></td><td data-column='Feb'></td><td data-column='Mar'></td><td data-column='Apr'></td><td data-column='May'></td><td data-column='Jun'></td><td data-column='Jul'></td><td data-column='Aug'></td><td data-column='Sep'></td><td data-column='Oct'></td><td data-column='Nov'></td><td data-column='Dec'></td><td data-column='Annual'></td></tr><tr class='x-axis' data-row='Annual'><th>Annual</th><td data-column='Year'></td><td data-column='Jan'></td><td data-column='Feb'></td><td data-column='Mar'></td><td data-column='Apr'></td><td data-column='May'></td><td data-column='Jun'></td><td data-column='Jul'></td><td data-column='Aug'></td><td data-column='Sep'></td><td data-column='Oct'></td><td data-column='Nov'></td><td data-column='Dec'></td><td data-column='Annual'></td></tr>\n",
       "    </table>\n",
       "</div>\n"
      ],
      "text/plain": [
       "<IPython.core.display.HTML object>"
      ]
     },
     "execution_count": 6,
     "metadata": {},
     "output_type": "execute_result"
    }
   ],
   "source": [
    "HTML(\"\"\"\n",
    "<style>\n",
    "div#display tr.selected {\n",
    "    border-top-width: 3px;\n",
    "    border-left-width: 3px;\n",
    "    border-right-width: 3px;\n",
    "    border-bottom-width: 3px;\n",
    "}\n",
    "</style>\n",
    "<div id='display'>\n",
    "    <table>\n",
    "        %s\n",
    "    </table>\n",
    "</div>\n",
    "\"\"\" % (table) )"
   ]
  },
  {
   "cell_type": "markdown",
   "metadata": {},
   "source": [
    "> Initialize contenteditable"
   ]
  },
  {
   "cell_type": "code",
   "execution_count": 7,
   "metadata": {
    "collapsed": false
   },
   "outputs": [
    {
     "data": {
      "application/javascript": [
       "// Generated by CoffeeScript 1.9.3\n",
       "require([\"https://cdnjs.cloudflare.com/ajax/libs/d3/3.5.6/d3.min.js\"], function(d3) {\n",
       "  var rows, table;\n",
       "  table = d3.select(\"div#display table\");\n",
       "  table.selectAll('td').style('border-color', 'green');\n",
       "  rows = table.selectAll('tr');\n",
       "  return rows.each(function(d, i) {\n",
       "    var row;\n",
       "    row = d3.select(this);\n",
       "    if (i > 0) {\n",
       "      return row.select('th').on('click', function() {\n",
       "        rows.classed('selected', false).attr('contenteditable', 'false');\n",
       "        row.classed('selected', !row.classed('selected'));\n",
       "        return row.selectAll('td').append('code').attr('contenteditable', 'true');\n",
       "      });\n",
       "    }\n",
       "  });\n",
       "});\n"
      ],
      "text/plain": [
       "<IPython.core.display.Javascript object>"
      ]
     },
     "execution_count": 7,
     "metadata": {},
     "output_type": "execute_result"
    }
   ],
   "source": [
    "Javascript( create_interactive_table )"
   ]
  },
  {
   "cell_type": "markdown",
   "metadata": {},
   "source": [
    "> Transform table UI info to Python"
   ]
  },
  {
   "cell_type": "code",
   "execution_count": 17,
   "metadata": {
    "collapsed": false
   },
   "outputs": [
    {
     "data": {
      "application/javascript": [
       "// Generated by CoffeeScript 1.9.3\n",
       "require([\"https://cdnjs.cloudflare.com/ajax/libs/d3/3.5.6/d3.min.js\", \"https://cdnjs.cloudflare.com/ajax/libs/js-yaml/3.3.1/js-yaml.min.js\"], function(d3, yaml) {\n",
       "  var figure, x_column, x_row;\n",
       "  figure = yaml.load(d3.select('.figure').text());\n",
       "  figure['glyphs'] = [];\n",
       "  x_row = d3.selectAll('.selected');\n",
       "  x_column = x_row.attr('data-row');\n",
       "  x_row.selectAll('td').each(function(d, i) {\n",
       "    var cell;\n",
       "    cell = d3.select(this);\n",
       "    if (cell.text().trim().length > 0) {\n",
       "      return d3.entries(yaml.load(cell.text())).forEach(function(d) {\n",
       "        var tmp;\n",
       "        tmp = {};\n",
       "        tmp[d.key] = {\n",
       "          x: x_column,\n",
       "          y: cell.attr('data-column')\n",
       "        };\n",
       "        d3.entries(d.value).forEach(function(_d) {\n",
       "          return tmp[d.key][_d.key] = _d.value;\n",
       "        });\n",
       "        return figure['glyphs'].push(tmp);\n",
       "      });\n",
       "    }\n",
       "  });\n",
       "  return IPython.notebook.kernel.execute('figure_data = ' + JSON.stringify(figure));\n",
       "});\n"
      ],
      "text/plain": [
       "<IPython.core.display.Javascript object>"
      ]
     },
     "execution_count": 17,
     "metadata": {},
     "output_type": "execute_result"
    }
   ],
   "source": [
    "Javascript(get_figure_data)"
   ]
  },
  {
   "cell_type": "code",
   "execution_count": 18,
   "metadata": {
    "collapsed": false
   },
   "outputs": [
    {
     "name": "stdout",
     "output_type": "stream",
     "text": [
      "{'glyphs': [{'line': {'x': 'Year', 'y': 'Jan', 'color': 'red'}}, {'line': {'line_dash': [4, 4], 'x': 'Year', 'y': 'Annual', 'line_color': 'gray', 'line_width': 5, 'line_alpha': 0.6}}], 'figure': {'plot_height': 400, 'x_axis_label': 'Year', 'plot_width': 400}}\n"
     ]
    }
   ],
   "source": [
    "print(figure_data)"
   ]
  },
  {
   "cell_type": "code",
   "execution_count": 19,
   "metadata": {
    "code_folding": [
     1,
     4
    ],
    "collapsed": false
   },
   "outputs": [
    {
     "data": {
      "text/html": [
       "<script type=\"text/javascript\">\n",
       "        Bokeh.$(function() {\n",
       "            var all_models = [{\"id\": \"85e0a66f-a808-4a18-8d7e-3278f32b8139\", \"type\": \"BoxZoomTool\", \"attributes\": {\"id\": \"85e0a66f-a808-4a18-8d7e-3278f32b8139\", \"dimensions\": [\"width\", \"height\"], \"tags\": [], \"plot\": {\"id\": \"669b16e2-85db-46d5-8fc6-2873f1827820\", \"type\": \"Plot\", \"subtype\": \"Figure\"}, \"doc\": null}}, {\"id\": \"6d4a7a8c-0ebd-4d90-9a1e-1de193b050dd\", \"type\": \"BasicTickFormatter\", \"attributes\": {\"id\": \"6d4a7a8c-0ebd-4d90-9a1e-1de193b050dd\", \"doc\": null, \"tags\": []}}, {\"id\": \"e797e447-424e-4295-a229-06952ee78b50\", \"type\": \"HelpTool\", \"attributes\": {\"doc\": null, \"id\": \"e797e447-424e-4295-a229-06952ee78b50\", \"tags\": [], \"plot\": {\"id\": \"669b16e2-85db-46d5-8fc6-2873f1827820\", \"type\": \"Plot\", \"subtype\": \"Figure\"}}}, {\"id\": \"f6f8461f-3b66-4fff-aeb3-bda4b8d69f8e\", \"type\": \"Line\", \"attributes\": {\"id\": \"f6f8461f-3b66-4fff-aeb3-bda4b8d69f8e\", \"doc\": null, \"x\": {\"field\": \"Year\"}, \"y\": {\"field\": \"Jan\"}, \"line_color\": {\"value\": \"red\"}, \"tags\": [], \"line_alpha\": {\"value\": 1.0}}}, {\"id\": \"09448755-a109-4cef-b9c3-0c0e83b80f10\", \"type\": \"ResetTool\", \"attributes\": {\"doc\": null, \"id\": \"09448755-a109-4cef-b9c3-0c0e83b80f10\", \"tags\": [], \"plot\": {\"id\": \"669b16e2-85db-46d5-8fc6-2873f1827820\", \"type\": \"Plot\", \"subtype\": \"Figure\"}}}, {\"id\": \"8f0aea95-782f-40e0-ac8a-1106e4a90d3d\", \"type\": \"GlyphRenderer\", \"attributes\": {\"glyph\": {\"id\": \"f6f8461f-3b66-4fff-aeb3-bda4b8d69f8e\", \"type\": \"Line\"}, \"id\": \"8f0aea95-782f-40e0-ac8a-1106e4a90d3d\", \"nonselection_glyph\": {\"id\": \"1f40a75d-8f0c-4e4c-9257-617f525484a3\", \"type\": \"Line\"}, \"selection_glyph\": null, \"data_source\": {\"id\": \"38fb5e05-cdbc-474a-805c-cc248f2de164\", \"type\": \"ColumnDataSource\"}, \"tags\": [], \"doc\": null}}, {\"id\": \"8ae5db3a-b8c3-4594-81ad-76f628ae2714\", \"type\": \"Line\", \"attributes\": {\"line_dash\": [4, 4], \"id\": \"8ae5db3a-b8c3-4594-81ad-76f628ae2714\", \"tags\": [], \"doc\": null, \"x\": {\"field\": \"Year\"}, \"y\": {\"field\": \"Annual\"}, \"line_color\": {\"value\": \"gray\"}, \"line_width\": {\"value\": 5}, \"line_alpha\": {\"value\": 0.6}}}, {\"id\": \"af9063bb-6a0c-486d-a767-09f4300a6ceb\", \"type\": \"ToolEvents\", \"attributes\": {\"doc\": null, \"geometries\": [], \"id\": \"af9063bb-6a0c-486d-a767-09f4300a6ceb\", \"tags\": []}}, {\"id\": \"38fb5e05-cdbc-474a-805c-cc248f2de164\", \"type\": \"ColumnDataSource\", \"attributes\": {\"doc\": null, \"tags\": [], \"selected\": {\"2d\": {\"indices\": []}, \"0d\": {\"indices\": [], \"flag\": false}, \"1d\": {\"indices\": []}}, \"id\": \"38fb5e05-cdbc-474a-805c-cc248f2de164\", \"column_names\": [\"Jan\", \"Nov\", \"Jun\", \"Year\", \"Aug\", \"index\", \"Mar\", \"May\", \"Oct\", \"Feb\", \"Apr\", \"Sep\", \"Jul\", \"Dec\", \"Annual\"], \"callback\": null, \"data\": {\"Jan\": [4.0, 5.0, 7.6, 4.4, 3.7, 3.4, 5.7, 5.8, 4.7, 4.9, 6.8, 7.0, 6.1, 7.7, 6.7, 6.6, 6.4, 5.5, 4.4, 4.2, 4.0, 3.7, 4.2, 6.6, 6.5, 5.5, 5.7, 9.0, 8.8, 8.3, 7.1, 6.4, 6.9, 8.2, 9.4, 11.4, 8.8, 8.0, 7.3, 7.3, 6.3, 6.0, 6.0, 7.1, 8.1, 8.0, 7.3, 6.2, 6.3, 5.9, 5.2, 4.8, 4.5, 4.7, 6.3, 6.5, 6.3, 5.7, 5.1, 5.0, 5.4, 8.5, 10.6, 9.8, 8.8, 8.5], \"Nov\": [3.3, 5.7, 3.8, 3.2, 2.5, 3.2, 4.9, 3.8, 3.9, 4.6, 5.6, 5.3, 5.6, 5.6, 5.3, 5.3, 4.5, 3.9, 3.4, 3.7, 3.3, 3.3, 5.5, 5.7, 4.9, 4.6, 6.2, 7.8, 7.4, 6.5, 5.6, 5.6, 7.1, 7.9, 10.4, 8.1, 6.9, 6.7, 6.6, 5.6, 5.2, 5.2, 5.9, 6.7, 7.1, 6.2, 5.3, 5.3, 5.0, 4.3, 4.1, 3.8, 3.7, 5.3, 5.6, 5.6, 5.2, 4.8, 4.3, 4.5, 6.5, 9.4, 9.3, 8.2, 7.4, 6.6], \"Jun\": [3.9, 6.4, 5.6, 3.4, 3.2, 2.7, 5.7, 4.4, 4.7, 4.6, 7.6, 5.4, 5.8, 7.3, 5.9, 6.2, 5.9, 5.3, 4.6, 4.6, 4.5, 4.1, 5.6, 6.5, 6.2, 5.4, 5.8, 9.1, 8.0, 7.5, 6.2, 6.0, 7.8, 7.7, 9.8, 10.2, 7.4, 7.5, 7.3, 6.3, 5.5, 5.5, 5.4, 7.0, 8.0, 7.2, 6.2, 5.8, 5.5, 5.2, 4.7, 4.5, 4.1, 4.7, 6.0, 6.5, 5.8, 5.2, 4.8, 4.7, 5.7, 9.7, 9.6, 9.3, 8.4, 7.8], \"Year\": [1948, 1949, 1950, 1951, 1952, 1953, 1954, 1955, 1956, 1957, 1958, 1959, 1960, 1961, 1962, 1963, 1964, 1965, 1966, 1967, 1968, 1969, 1970, 1971, 1972, 1973, 1974, 1975, 1976, 1977, 1978, 1979, 1980, 1981, 1982, 1983, 1984, 1985, 1986, 1987, 1988, 1989, 1990, 1991, 1992, 1993, 1994, 1995, 1996, 1997, 1998, 1999, 2000, 2001, 2002, 2003, 2004, 2005, 2006, 2007, 2008, 2009, 2010, 2011, 2012, 2013], \"Aug\": [3.6, 6.3, 4.1, 2.9, 3.1, 2.4, 5.4, 3.8, 3.7, 3.7, 6.7, 4.8, 5.2, 6.2, 5.3, 5.2, 4.8, 4.2, 3.6, 3.7, 3.5, 3.5, 5.0, 5.9, 5.5, 4.7, 5.3, 8.2, 7.6, 6.8, 5.9, 5.9, 7.6, 7.2, 9.6, 9.2, 7.3, 6.9, 6.7, 5.8, 5.4, 5.1, 5.5, 6.6, 7.4, 6.6, 5.9, 5.6, 5.1, 4.8, 4.5, 4.2, 4.1, 4.9, 5.7, 6.0, 5.4, 4.9, 4.6, 4.6, 6.1, 9.6, 9.5, 9.1, 8.2, 7.3], \"index\": [0, 1, 2, 3, 4, 5, 6, 7, 8, 9, 10, 11, 12, 13, 14, 15, 16, 17, 18, 19, 20, 21, 22, 23, 24, 25, 26, 27, 28, 29, 30, 31, 32, 33, 34, 35, 36, 37, 38, 39, 40, 41, 42, 43, 44, 45, 46, 47, 48, 49, 50, 51, 52, 53, 54, 55, 56, 57, 58, 59, 60, 61, 62, 63, 64, 65], \"Mar\": [4.5, 5.6, 7.1, 3.8, 3.3, 2.9, 6.4, 5.2, 4.7, 4.3, 7.7, 6.4, 6.1, 7.7, 6.2, 6.3, 5.9, 5.1, 4.0, 3.9, 3.8, 3.5, 4.6, 6.3, 6.1, 5.2, 5.3, 9.1, 8.1, 7.9, 6.6, 6.1, 6.6, 7.7, 9.5, 10.8, 8.1, 7.5, 7.5, 6.9, 5.9, 5.2, 5.5, 7.2, 7.8, 7.4, 6.8, 5.7, 5.8, 5.5, 5.0, 4.4, 4.3, 4.5, 6.1, 6.2, 6.0, 5.4, 4.8, 4.5, 5.2, 9.0, 10.2, 9.2, 8.4, 7.6], \"May\": [3.4, 5.7, 5.3, 2.9, 2.9, 2.5, 5.7, 4.2, 4.2, 3.9, 7.1, 4.9, 4.8, 6.6, 5.1, 5.5, 4.8, 4.3, 3.7, 3.2, 2.9, 2.9, 4.1, 5.3, 5.1, 4.4, 4.6, 8.3, 6.8, 6.4, 5.5, 5.2, 7.1, 7.1, 9.1, 9.8, 7.2, 7.0, 7.0, 6.1, 5.4, 5.0, 5.2, 6.7, 7.3, 6.8, 5.9, 5.5, 5.4, 4.7, 4.2, 4.0, 3.8, 4.1, 5.5, 5.8, 5.3, 4.9, 4.4, 4.3, 5.2, 9.1, 9.3, 8.7, 7.9, 7.3], \"Oct\": [2.9, 6.1, 3.3, 2.8, 2.4, 2.5, 4.6, 3.4, 3.1, 3.6, 5.5, 4.7, 5.0, 5.5, 4.5, 4.7, 4.4, 3.6, 3.2, 3.8, 3.2, 3.5, 5.1, 5.4, 5.1, 4.2, 5.5, 7.8, 7.2, 6.4, 5.4, 5.6, 7.1, 7.5, 9.9, 8.4, 7.0, 6.8, 6.6, 5.7, 5.0, 5.0, 5.5, 6.5, 6.9, 6.4, 5.4, 5.2, 4.9, 4.4, 4.2, 3.8, 3.6, 5.0, 5.3, 5.6, 5.1, 4.6, 4.1, 4.4, 6.1, 9.5, 9.0, 8.5, 7.5, 7.0], \"Feb\": [4.7, 5.8, 7.9, 4.2, 3.8, 3.2, 6.3, 5.7, 4.8, 4.7, 7.7, 7.0, 5.7, 8.1, 6.5, 6.9, 6.2, 5.7, 4.2, 4.2, 4.2, 3.7, 4.7, 6.6, 6.4, 5.6, 5.8, 9.1, 8.7, 8.5, 6.9, 6.4, 6.8, 8.0, 9.6, 11.3, 8.4, 7.8, 7.8, 7.2, 6.2, 5.6, 5.9, 7.3, 8.2, 7.8, 7.1, 5.9, 6.0, 5.7, 5.0, 4.7, 4.4, 4.6, 6.1, 6.4, 6.0, 5.8, 5.1, 4.9, 5.2, 8.9, 10.4, 9.5, 8.7, 8.1], \"Apr\": [4.0, 5.4, 6.0, 3.2, 3.0, 2.8, 6.1, 4.9, 4.1, 4.0, 7.5, 5.2, 5.2, 7.0, 5.5, 5.6, 5.3, 4.7, 3.6, 3.5, 3.2, 3.2, 4.3, 5.7, 5.5, 4.8, 4.8, 8.6, 7.4, 6.9, 5.8, 5.5, 6.7, 7.0, 9.2, 10.0, 7.6, 7.1, 7.0, 6.2, 5.3, 5.1, 5.3, 6.5, 7.2, 6.9, 6.2, 5.6, 5.4, 4.8, 4.1, 4.1, 3.7, 4.2, 5.7, 5.8, 5.4, 4.9, 4.5, 4.3, 4.8, 8.6, 9.5, 8.7, 7.7, 7.1], \"Jul\": [3.9, 7.0, 5.3, 3.3, 3.3, 2.7, 5.7, 4.0, 4.4, 4.1, 7.4, 5.2, 5.5, 6.9, 5.3, 5.6, 4.9, 4.5, 3.9, 4.1, 4.0, 3.8, 5.3, 6.2, 5.9, 5.0, 5.7, 8.7, 7.8, 7.0, 6.3, 5.9, 7.9, 7.3, 9.8, 9.4, 7.5, 7.4, 7.0, 6.1, 5.5, 5.3, 5.6, 6.8, 7.7, 7.0, 6.2, 5.9, 5.6, 5.0, 4.7, 4.5, 4.2, 4.7, 5.9, 6.3, 5.7, 5.2, 5.0, 4.9, 6.0, 9.7, 9.7, 9.3, 8.6, 7.7], \"Sep\": [3.4, 5.9, 4.0, 3.0, 2.7, 2.6, 5.3, 3.5, 3.4, 3.7, 6.0, 4.7, 4.7, 5.8, 4.9, 4.8, 4.5, 3.8, 3.3, 3.7, 3.3, 3.7, 5.2, 5.8, 5.4, 4.7, 5.7, 8.1, 7.4, 6.6, 5.8, 5.7, 7.2, 7.3, 9.7, 8.8, 7.1, 6.9, 6.8, 5.7, 5.2, 5.1, 5.6, 6.5, 7.3, 6.4, 5.6, 5.4, 5.0, 4.7, 4.4, 4.1, 3.8, 4.7, 5.4, 5.8, 5.1, 4.8, 4.4, 4.5, 6.0, 9.5, 9.2, 8.8, 7.6, 7.0], \"Dec\": [3.6, 6.0, 3.9, 2.9, 2.5, 4.2, 4.8, 3.9, 4.0, 5.0, 6.0, 5.1, 6.4, 5.8, 5.3, 5.3, 4.7, 3.7, 3.5, 3.5, 3.1, 3.2, 5.6, 5.5, 4.8, 4.6, 6.7, 7.8, 7.4, 6.0, 5.7, 5.7, 6.9, 8.3, 10.5, 8.0, 7.0, 6.7, 6.3, 5.4, 5.0, 5.1, 6.0, 6.9, 7.1, 6.1, 5.1, 5.2, 5.0, 4.4, 4.0, 3.7, 3.7, 5.4, 5.7, 5.4, 5.1, 4.6, 4.3, 4.8, 7.1, 9.7, 9.1, 8.3, 7.6, 6.5], \"Annual\": [3.8, 5.9, 5.3, 3.3, 3.0, 2.9, 5.5, 4.4, 4.1, 4.3, 6.8, 5.5, 5.5, 6.7, 5.5, 5.7, 5.2, 4.5, 3.8, 3.8, 3.6, 3.5, 4.9, 5.9, 5.6, 4.9, 5.6, 8.5, 7.7, 7.1, 6.1, 5.8, 7.1, 7.6, 9.7, 9.6, 7.5, 7.2, 7.0, 6.2, 5.5, 5.3, 5.6, 6.8, 7.5, 6.9, 6.1, 5.6, 5.4, 4.9, 4.5, 4.2, 4.0, 4.7, 5.8, 6.0, 5.5, 5.1, 4.6, 4.6, 5.8, 9.3, 9.6, 8.9, 8.1, 7.4]}}}, {\"id\": \"82d4a18a-2aee-4be2-b899-78ccc2213b6f\", \"type\": \"PanTool\", \"attributes\": {\"id\": \"82d4a18a-2aee-4be2-b899-78ccc2213b6f\", \"dimensions\": [\"width\", \"height\"], \"tags\": [], \"plot\": {\"id\": \"669b16e2-85db-46d5-8fc6-2873f1827820\", \"type\": \"Plot\", \"subtype\": \"Figure\"}, \"doc\": null}}, {\"id\": \"79b12253-b30f-4535-ace1-bc2d5af53fbd\", \"type\": \"DataRange1d\", \"attributes\": {\"renderers\": [], \"doc\": null, \"names\": [], \"id\": \"79b12253-b30f-4535-ace1-bc2d5af53fbd\", \"callback\": null, \"tags\": []}}, {\"id\": \"9a214763-11d9-47ac-b72e-315da96decea\", \"type\": \"WheelZoomTool\", \"attributes\": {\"id\": \"9a214763-11d9-47ac-b72e-315da96decea\", \"dimensions\": [\"width\", \"height\"], \"tags\": [], \"plot\": {\"id\": \"669b16e2-85db-46d5-8fc6-2873f1827820\", \"type\": \"Plot\", \"subtype\": \"Figure\"}, \"doc\": null}}, {\"id\": \"74a7dedc-2a45-4624-940e-225d330bb1d6\", \"type\": \"Line\", \"attributes\": {\"line_dash\": [4, 4], \"id\": \"74a7dedc-2a45-4624-940e-225d330bb1d6\", \"tags\": [], \"doc\": null, \"x\": {\"field\": \"Year\"}, \"y\": {\"field\": \"Annual\"}, \"line_color\": {\"value\": \"#1f77b4\"}, \"line_width\": {\"value\": 5}, \"line_alpha\": {\"value\": 0.1}}}, {\"id\": \"ed041c74-655c-4b19-bf30-a6a0ef2f7e2a\", \"type\": \"LinearAxis\", \"attributes\": {\"id\": \"ed041c74-655c-4b19-bf30-a6a0ef2f7e2a\", \"tags\": [], \"formatter\": {\"id\": \"80a15aee-2cca-4c83-bad7-e892f4b5ea4d\", \"type\": \"BasicTickFormatter\"}, \"ticker\": {\"id\": \"635d0dc3-3b74-428e-8629-50040be3e2d9\", \"type\": \"BasicTicker\"}, \"axis_label\": \"Year\", \"plot\": {\"id\": \"669b16e2-85db-46d5-8fc6-2873f1827820\", \"type\": \"Plot\", \"subtype\": \"Figure\"}, \"doc\": null}}, {\"id\": \"cc9464c4-132c-4b65-9229-0f677db753d6\", \"type\": \"ResizeTool\", \"attributes\": {\"doc\": null, \"id\": \"cc9464c4-132c-4b65-9229-0f677db753d6\", \"tags\": [], \"plot\": {\"id\": \"669b16e2-85db-46d5-8fc6-2873f1827820\", \"type\": \"Plot\", \"subtype\": \"Figure\"}}}, {\"id\": \"635d0dc3-3b74-428e-8629-50040be3e2d9\", \"type\": \"BasicTicker\", \"attributes\": {\"mantissas\": [2, 5, 10], \"id\": \"635d0dc3-3b74-428e-8629-50040be3e2d9\", \"num_minor_ticks\": 5, \"tags\": [], \"doc\": null}}, {\"id\": \"c977c1eb-9dbe-4c3c-90ee-655c4f0f2da6\", \"type\": \"DataRange1d\", \"attributes\": {\"renderers\": [], \"doc\": null, \"names\": [], \"id\": \"c977c1eb-9dbe-4c3c-90ee-655c4f0f2da6\", \"callback\": null, \"tags\": []}}, {\"id\": \"babb90c7-96bd-49f5-8ff3-7a11005d30ba\", \"type\": \"Grid\", \"attributes\": {\"id\": \"babb90c7-96bd-49f5-8ff3-7a11005d30ba\", \"dimension\": 0, \"ticker\": {\"id\": \"635d0dc3-3b74-428e-8629-50040be3e2d9\", \"type\": \"BasicTicker\"}, \"tags\": [], \"plot\": {\"id\": \"669b16e2-85db-46d5-8fc6-2873f1827820\", \"type\": \"Plot\", \"subtype\": \"Figure\"}, \"doc\": null}}, {\"id\": \"1f40a75d-8f0c-4e4c-9257-617f525484a3\", \"type\": \"Line\", \"attributes\": {\"id\": \"1f40a75d-8f0c-4e4c-9257-617f525484a3\", \"doc\": null, \"x\": {\"field\": \"Year\"}, \"y\": {\"field\": \"Jan\"}, \"line_color\": {\"value\": \"#1f77b4\"}, \"tags\": [], \"line_alpha\": {\"value\": 0.1}}}, {\"id\": \"80a15aee-2cca-4c83-bad7-e892f4b5ea4d\", \"type\": \"BasicTickFormatter\", \"attributes\": {\"id\": \"80a15aee-2cca-4c83-bad7-e892f4b5ea4d\", \"doc\": null, \"tags\": []}}, {\"id\": \"b29a4d12-2c04-4f8b-8d89-c7dfceef36d0\", \"type\": \"GlyphRenderer\", \"attributes\": {\"glyph\": {\"id\": \"8ae5db3a-b8c3-4594-81ad-76f628ae2714\", \"type\": \"Line\"}, \"id\": \"b29a4d12-2c04-4f8b-8d89-c7dfceef36d0\", \"nonselection_glyph\": {\"id\": \"74a7dedc-2a45-4624-940e-225d330bb1d6\", \"type\": \"Line\"}, \"selection_glyph\": null, \"data_source\": {\"id\": \"38fb5e05-cdbc-474a-805c-cc248f2de164\", \"type\": \"ColumnDataSource\"}, \"tags\": [], \"doc\": null}}, {\"id\": \"2c643da6-5ce3-4809-a9f2-bfe77f9e5371\", \"type\": \"Grid\", \"attributes\": {\"id\": \"2c643da6-5ce3-4809-a9f2-bfe77f9e5371\", \"dimension\": 1, \"ticker\": {\"id\": \"fa797ba3-4611-445d-a460-0dea93ac9b2c\", \"type\": \"BasicTicker\"}, \"tags\": [], \"plot\": {\"id\": \"669b16e2-85db-46d5-8fc6-2873f1827820\", \"type\": \"Plot\", \"subtype\": \"Figure\"}, \"doc\": null}}, {\"id\": \"669b16e2-85db-46d5-8fc6-2873f1827820\", \"type\": \"Plot\", \"subtype\": \"Figure\", \"attributes\": {\"x_range\": {\"id\": \"79b12253-b30f-4535-ace1-bc2d5af53fbd\", \"type\": \"DataRange1d\"}, \"tool_events\": {\"id\": \"af9063bb-6a0c-486d-a767-09f4300a6ceb\", \"type\": \"ToolEvents\"}, \"extra_x_ranges\": {}, \"id\": \"669b16e2-85db-46d5-8fc6-2873f1827820\", \"tags\": [], \"above\": [], \"below\": [{\"id\": \"ed041c74-655c-4b19-bf30-a6a0ef2f7e2a\", \"type\": \"LinearAxis\"}], \"renderers\": [{\"id\": \"ed041c74-655c-4b19-bf30-a6a0ef2f7e2a\", \"type\": \"LinearAxis\"}, {\"id\": \"babb90c7-96bd-49f5-8ff3-7a11005d30ba\", \"type\": \"Grid\"}, {\"id\": \"67a02595-0e3f-47cc-9d92-448c2f61d4f7\", \"type\": \"LinearAxis\"}, {\"id\": \"2c643da6-5ce3-4809-a9f2-bfe77f9e5371\", \"type\": \"Grid\"}, {\"id\": \"8f0aea95-782f-40e0-ac8a-1106e4a90d3d\", \"type\": \"GlyphRenderer\"}, {\"id\": \"b29a4d12-2c04-4f8b-8d89-c7dfceef36d0\", \"type\": \"GlyphRenderer\"}], \"doc\": null, \"extra_y_ranges\": {}, \"left\": [{\"id\": \"67a02595-0e3f-47cc-9d92-448c2f61d4f7\", \"type\": \"LinearAxis\"}], \"y_range\": {\"id\": \"c977c1eb-9dbe-4c3c-90ee-655c4f0f2da6\", \"type\": \"DataRange1d\"}, \"plot_width\": 400, \"tools\": [{\"id\": \"82d4a18a-2aee-4be2-b899-78ccc2213b6f\", \"type\": \"PanTool\"}, {\"id\": \"9a214763-11d9-47ac-b72e-315da96decea\", \"type\": \"WheelZoomTool\"}, {\"id\": \"85e0a66f-a808-4a18-8d7e-3278f32b8139\", \"type\": \"BoxZoomTool\"}, {\"id\": \"64a52d87-3357-4adc-93e1-3fb30536f3c3\", \"type\": \"PreviewSaveTool\"}, {\"id\": \"cc9464c4-132c-4b65-9229-0f677db753d6\", \"type\": \"ResizeTool\"}, {\"id\": \"09448755-a109-4cef-b9c3-0c0e83b80f10\", \"type\": \"ResetTool\"}, {\"id\": \"e797e447-424e-4295-a229-06952ee78b50\", \"type\": \"HelpTool\"}], \"right\": [], \"plot_height\": 400}}, {\"id\": \"64a52d87-3357-4adc-93e1-3fb30536f3c3\", \"type\": \"PreviewSaveTool\", \"attributes\": {\"doc\": null, \"id\": \"64a52d87-3357-4adc-93e1-3fb30536f3c3\", \"tags\": [], \"plot\": {\"id\": \"669b16e2-85db-46d5-8fc6-2873f1827820\", \"type\": \"Plot\", \"subtype\": \"Figure\"}}}, {\"id\": \"67a02595-0e3f-47cc-9d92-448c2f61d4f7\", \"type\": \"LinearAxis\", \"attributes\": {\"id\": \"67a02595-0e3f-47cc-9d92-448c2f61d4f7\", \"formatter\": {\"id\": \"6d4a7a8c-0ebd-4d90-9a1e-1de193b050dd\", \"type\": \"BasicTickFormatter\"}, \"ticker\": {\"id\": \"fa797ba3-4611-445d-a460-0dea93ac9b2c\", \"type\": \"BasicTicker\"}, \"tags\": [], \"plot\": {\"id\": \"669b16e2-85db-46d5-8fc6-2873f1827820\", \"type\": \"Plot\", \"subtype\": \"Figure\"}, \"doc\": null}}, {\"id\": \"fa797ba3-4611-445d-a460-0dea93ac9b2c\", \"type\": \"BasicTicker\", \"attributes\": {\"mantissas\": [2, 5, 10], \"id\": \"fa797ba3-4611-445d-a460-0dea93ac9b2c\", \"num_minor_ticks\": 5, \"tags\": [], \"doc\": null}}];\n",
       "            Bokeh.load_models(all_models);\n",
       "            var plots = [{'elementid': '#8d8681e1-1fe6-4ee2-8aab-fc95ef2b5114', 'modeltype': 'Plot', 'modelid': '669b16e2-85db-46d5-8fc6-2873f1827820'}];\n",
       "            for (idx in plots) {\n",
       "            \tvar plot = plots[idx];\n",
       "            \tvar model = Bokeh.Collections(plot.modeltype).get(plot.modelid);\n",
       "            \tBokeh.logger.info('Realizing plot:')\n",
       "            \tBokeh.logger.info(' - modeltype: ' + plot.modeltype);\n",
       "            \tBokeh.logger.info(' - modelid: ' + plot.modelid);\n",
       "            \tBokeh.logger.info(' - elementid: ' + plot.elementid);\n",
       "            \tvar view = new model.default_view({\n",
       "            \t\tmodel: model,\n",
       "            \t\tel: plot.elementid\n",
       "            \t});\n",
       "            \tBokeh.index[plot.modelid] = view;\n",
       "            }\n",
       "        });\n",
       "    </script>\n",
       "<div class=\"plotdiv\" id=\"8d8681e1-1fe6-4ee2-8aab-fc95ef2b5114\"></div>\n",
       "\n"
      ]
     },
     "metadata": {},
     "output_type": "display_data"
    }
   ],
   "source": [
    "# Create bokeh representation\n",
    "p = figure(\n",
    "    **figure_data['figure']\n",
    ")\n",
    "glyphs = figure_data['glyphs']\n",
    "for glyph in glyphs:\n",
    "    tmp = list(glyph.values())[0]\n",
    "    tmp['source'] = source\n",
    "    getattr( p, list(glyph.keys())[0] )(**tmp)\n",
    "show(p)"
   ]
  },
  {
   "cell_type": "code",
   "execution_count": 10,
   "metadata": {
    "collapsed": true
   },
   "outputs": [],
   "source": [
    "import git"
   ]
  },
  {
   "cell_type": "code",
   "execution_count": 12,
   "metadata": {
    "code_folding": [
     1
    ],
    "collapsed": false
   },
   "outputs": [
    {
     "data": {
      "text/plain": [
       "[<git.remote.PushInfo at 0x10700f728>]"
      ]
     },
     "execution_count": 12,
     "metadata": {},
     "output_type": "execute_result"
    }
   ],
   "source": [
    "repo = git.Repo('.')\n",
    "index = repo.index\n",
    "index.add(['ui-playground.ipynb'])\n",
    "index.commit( message = \"Committed from the notebook\")\n",
    "repo.remotes['origin'].push()"
   ]
  },
  {
   "cell_type": "code",
   "execution_count": 21,
   "metadata": {
    "collapsed": true
   },
   "outputs": [],
   "source": [
    "import requests\n",
    "from pyquery import PyQuery as pq"
   ]
  },
  {
   "cell_type": "code",
   "execution_count": 22,
   "metadata": {
    "collapsed": true
   },
   "outputs": [],
   "source": [
    "with open( 'ui-playground.ipynb', 'r' ) as f:\n",
    "    s = pq(f.read())"
   ]
  },
  {
   "cell_type": "code",
   "execution_count": 104,
   "metadata": {
    "collapsed": false
   },
   "outputs": [
    {
     "data": {
      "text/html": [
       "\n",
       "<table>\n",
       "    <tr>\n",
       "        <td contenteditable=\"false\">don't edit</td>\n",
       "        <td contenteditable=\"true\">edit</td>\n",
       "    </tr>\n",
       "</table>\n"
      ],
      "text/plain": [
       "<IPython.core.display.HTML object>"
      ]
     },
     "execution_count": 104,
     "metadata": {},
     "output_type": "execute_result"
    }
   ],
   "source": [
    "HTML(\"\"\"\n",
    "<table>\n",
    "    <tr>\n",
    "        <td contenteditable=\"false\">don't edit</td>\n",
    "        <td contenteditable=\"true\">edit</td>\n",
    "    </tr>\n",
    "</table>\n",
    "\"\"\")"
   ]
  },
  {
   "cell_type": "code",
   "execution_count": 53,
   "metadata": {
    "collapsed": false
   },
   "outputs": [
    {
     "data": {
      "application/javascript": [
       "// Generated by CoffeeScript 1.9.3\n",
       "(function() {\n",
       "  require([\"https://cdnjs.cloudflare.com/ajax/libs/d3/3.5.6/d3.min.js\"], function(d3) {\n",
       "    var table;\n",
       "    table = d3.select('table#ui');\n",
       "    console.log(table);\n",
       "    table.html('').selectAll('tr').data(keys).enter().append('tr');\n",
       "    table.select('tr').selectAll('th').data(keys).enter().append('th').text(function(d) {\n",
       "      return d;\n",
       "    });\n",
       "    return table.selectAll('tr');\n",
       "  });\n",
       "\n",
       "}).call(this);\n"
      ],
      "text/plain": [
       "<IPython.core.display.Javascript object>"
      ]
     },
     "execution_count": 53,
     "metadata": {},
     "output_type": "execute_result"
    }
   ],
   "source": [
    "js_code = coffee.compile(\"\"\"\n",
    "require [\n",
    "    \"https://cdnjs.cloudflare.com/ajax/libs/d3/3.5.6/d3.min.js\"\n",
    "], (d3) ->\n",
    "    table = d3.select 'table#ui'\n",
    "    console.log table\n",
    "    table.html ''\n",
    "        .selectAll 'tr'\n",
    "        .data keys\n",
    "        .enter()\n",
    "        .append 'tr'\n",
    "    \n",
    "    table.selectAll 'tr'\n",
    "        .each (_,i)->\n",
    "        \n",
    "    table.selectAll 'tr'\n",
    "\"\"\")\n",
    "                         \n",
    "Javascript( js_code )"
   ]
  },
  {
   "cell_type": "code",
   "execution_count": 5,
   "metadata": {
    "code_folding": [],
    "collapsed": false
   },
   "outputs": [
    {
     "data": {
      "application/javascript": [
       "// Generated by CoffeeScript 1.9.3\n",
       "(function() {\n",
       "  require([\"https://cdnjs.cloudflare.com/ajax/libs/d3/3.5.6/d3.min.js\"], function(d3) {\n",
       "    var rows, table;\n",
       "    table = d3.select(\"div#display table\");\n",
       "    table.selectAll('td').style('border-color', 'green');\n",
       "    rows = table.selectAll('tr');\n",
       "    return rows.each(function(d, i) {\n",
       "      var row;\n",
       "      row = d3.select(this);\n",
       "      if (i > 0) {\n",
       "        return row.select('th').on('click', function() {\n",
       "          rows.classed('selected', false).attr('contenteditable', 'false');\n",
       "          row.classed('selected', !row.classed('selected'));\n",
       "          return row.selectAll('td').append('code').attr('contenteditable', 'true');\n",
       "        });\n",
       "      }\n",
       "    });\n",
       "  });\n",
       "\n",
       "}).call(this);\n"
      ],
      "text/plain": [
       "<IPython.core.display.Javascript object>"
      ]
     },
     "metadata": {},
     "output_type": "display_data"
    }
   ],
   "source": [
    "%%coffeescript\n",
    "require [\n",
    "    \"https://cdnjs.cloudflare.com/ajax/libs/d3/3.5.6/d3.min.js\"\n",
    "], (d3) ->\n",
    "    table = d3.select \"div#display table\"\n",
    "    table.selectAll 'td'\n",
    "        .style 'border-color', 'green'\n",
    "    rows = table.selectAll 'tr'\n",
    "    rows.each (d,i) ->\n",
    "            row = d3.select @\n",
    "            if i > 0\n",
    "                row.select 'th'\n",
    "                    .on 'click', ()->\n",
    "                        rows.classed 'selected', false\n",
    "                            .attr 'contenteditable','false'\n",
    "                        row.classed 'selected', not row.classed 'selected'\n",
    "                        row.selectAll 'td'\n",
    "                            .append 'code'\n",
    "                            .attr 'contenteditable','true'"
   ]
  },
  {
   "cell_type": "code",
   "execution_count": 9,
   "metadata": {
    "code_folding": [
     1
    ],
    "collapsed": false
   },
   "outputs": [
    {
     "data": {
      "application/javascript": [
       "// Generated by CoffeeScript 1.9.3\n",
       "(function() {\n",
       "  require([\"https://cdnjs.cloudflare.com/ajax/libs/d3/3.5.6/d3.min.js\", \"https://cdnjs.cloudflare.com/ajax/libs/js-yaml/3.3.1/js-yaml.min.js\"], function(d3, yaml) {\n",
       "    var figure, x_column, x_row;\n",
       "    figure = yaml.load(d3.select('.figure').text());\n",
       "    figure['glyphs'] = [];\n",
       "    x_row = d3.selectAll('.selected');\n",
       "    x_column = x_row.attr('data-row');\n",
       "    x_row.selectAll('td').each(function(d, i) {\n",
       "      var cell;\n",
       "      cell = d3.select(this);\n",
       "      if (cell.text().trim().length > 0) {\n",
       "        return d3.entries(yaml.load(cell.text())).forEach(function(d) {\n",
       "          var tmp;\n",
       "          tmp = {};\n",
       "          tmp[d.key] = {\n",
       "            x: x_column,\n",
       "            y: cell.attr('data-column')\n",
       "          };\n",
       "          d3.entries(d.value).forEach(function(_d) {\n",
       "            return tmp[d.key][_d.key] = _d.value;\n",
       "          });\n",
       "          return figure['glyphs'].push(tmp);\n",
       "        });\n",
       "      }\n",
       "    });\n",
       "    return IPython.notebook.kernel.execute('figure_data = ' + JSON.stringify(figure));\n",
       "  });\n",
       "\n",
       "}).call(this);\n"
      ],
      "text/plain": [
       "<IPython.core.display.Javascript object>"
      ]
     },
     "metadata": {},
     "output_type": "display_data"
    }
   ],
   "source": [
    "%%coffeescript\n",
    "require [\n",
    "    \"https://cdnjs.cloudflare.com/ajax/libs/d3/3.5.6/d3.min.js\",\n",
    "    \"https://cdnjs.cloudflare.com/ajax/libs/js-yaml/3.3.1/js-yaml.min.js\"\n",
    "], (d3,yaml) ->\n",
    "    figure = yaml.load d3.select('.figure').text()\n",
    "    figure['glyphs'] = []\n",
    "    x_row = d3.selectAll '.selected'\n",
    "    x_column = x_row.attr('data-row')\n",
    "    x_row.selectAll 'td'\n",
    "        .each (d,i)->\n",
    "            cell = d3.select @\n",
    "            if cell.text().trim().length > 0\n",
    "                d3.entries yaml.load cell.text()\n",
    "                    .forEach (d) ->\n",
    "                        tmp = {}\n",
    "                        tmp[d.key] = \n",
    "                            x: x_column\n",
    "                            y: cell.attr 'data-column'\n",
    "                        d3.entries d.value\n",
    "                            .forEach (_d)->\n",
    "                                tmp[d.key][_d.key] = _d.value\n",
    "                        \n",
    "                        figure['glyphs'].push tmp\n",
    "                    \n",
    "    IPython.notebook.kernel.execute 'figure_data = ' + JSON.stringify figure\n",
    "        \n",
    "            "
   ]
  }
 ],
 "metadata": {
  "kernelspec": {
   "display_name": "Python 3",
   "language": "python",
   "name": "python3"
  },
  "language_info": {
   "codemirror_mode": {
    "name": "ipython",
    "version": 3
   },
   "file_extension": ".py",
   "mimetype": "text/x-python",
   "name": "python",
   "nbconvert_exporter": "python",
   "pygments_lexer": "ipython3",
   "version": "3.4.3"
  }
 },
 "nbformat": 4,
 "nbformat_minor": 0
}
